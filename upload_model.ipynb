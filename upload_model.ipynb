{
 "cells": [
  {
   "cell_type": "code",
   "execution_count": 1,
   "id": "42b5a8a8",
   "metadata": {},
   "outputs": [
    {
     "data": {
      "text/plain": [
       "<firebase_admin.App at 0x1d63a6a2e50>"
      ]
     },
     "execution_count": 1,
     "metadata": {},
     "output_type": "execute_result"
    }
   ],
   "source": [
    "import firebase_admin\n",
    "from firebase_admin import ml\n",
    "from firebase_admin import credentials\n",
    "\n",
    "firebase_admin.initialize_app(\n",
    "  credentials.Certificate('thesis-bd8c8-firebase-adminsdk-fqj6e-e1d094b473.json'),\n",
    "  options={\n",
    "      'storageBucket': 'thesis-bd8c8.appspot.com',\n",
    "  })\n"
   ]
  },
  {
   "cell_type": "code",
   "execution_count": 3,
   "id": "4a05dcc1",
   "metadata": {},
   "outputs": [],
   "source": [
    "source = ml.TFLiteGCSModelSource.from_tflite_model_file('modified_multi_model2.tflite')"
   ]
  },
  {
   "cell_type": "code",
   "execution_count": 4,
   "id": "2b5cb7b5",
   "metadata": {},
   "outputs": [],
   "source": [
    "tflite_format = ml.TFLiteFormat(model_source=source)"
   ]
  },
  {
   "cell_type": "code",
   "execution_count": 5,
   "id": "9eefa881",
   "metadata": {},
   "outputs": [],
   "source": [
    "model = ml.Model(display_name=\"my_model2\", model_format=tflite_format)"
   ]
  },
  {
   "cell_type": "code",
   "execution_count": 6,
   "id": "e25b31ae",
   "metadata": {},
   "outputs": [
    {
     "data": {
      "text/plain": [
       "<firebase_admin.ml.Model at 0x1d663442350>"
      ]
     },
     "execution_count": 6,
     "metadata": {},
     "output_type": "execute_result"
    }
   ],
   "source": [
    "new_model = ml.create_model(model)\n",
    "ml.publish_model(new_model.model_id)"
   ]
  },
  {
   "cell_type": "code",
   "execution_count": 7,
   "id": "4681be03",
   "metadata": {},
   "outputs": [
    {
     "name": "stdout",
     "output_type": "stream",
     "text": [
      "21843218\n"
     ]
    }
   ],
   "source": [
    "print(new_model.model_id)"
   ]
  },
  {
   "cell_type": "code",
   "execution_count": null,
   "id": "85654499",
   "metadata": {},
   "outputs": [],
   "source": []
  }
 ],
 "metadata": {
  "kernelspec": {
   "display_name": "Python 3 (ipykernel)",
   "language": "python",
   "name": "python3"
  },
  "language_info": {
   "codemirror_mode": {
    "name": "ipython",
    "version": 3
   },
   "file_extension": ".py",
   "mimetype": "text/x-python",
   "name": "python",
   "nbconvert_exporter": "python",
   "pygments_lexer": "ipython3",
   "version": "3.11.3"
  }
 },
 "nbformat": 4,
 "nbformat_minor": 5
}
