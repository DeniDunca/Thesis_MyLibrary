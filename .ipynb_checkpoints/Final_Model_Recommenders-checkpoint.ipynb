{
 "cells": [
  {
   "cell_type": "markdown",
   "id": "6a0d24a2",
   "metadata": {},
   "source": [
    "## Multi-task recommenders"
   ]
  },
  {
   "cell_type": "code",
   "execution_count": 1,
   "id": "bc5918be",
   "metadata": {},
   "outputs": [],
   "source": [
    "from typing import Dict, Text\n",
    "from firebase import firebase\n",
    "\n",
    "import os\n",
    "import pprint\n",
    "import tempfile\n",
    "import numpy as np\n",
    "import pandas as pd\n",
    "import tensorflow as tf\n",
    "import matplotlib.pyplot as plt\n",
    "import tensorflow_recommenders as tfrs"
   ]
  },
  {
   "cell_type": "markdown",
   "id": "a631e395",
   "metadata": {},
   "source": [
    "### Preparing the dataset"
   ]
  },
  {
   "cell_type": "code",
   "execution_count": 2,
   "id": "2270855b",
   "metadata": {},
   "outputs": [],
   "source": [
    "firebase = firebase.FirebaseApplication('https://thesis-bd8c8-default-rtdb.europe-west1.firebasedatabase.app/', None)\n",
    "firebase_ratings = firebase.get('/User_Book', None)\n",
    "firebase_books = firebase.get('/Books', None)"
   ]
  },
  {
   "cell_type": "code",
   "execution_count": 3,
   "id": "6beecdd5",
   "metadata": {},
   "outputs": [],
   "source": [
    "ratings_df = pd.DataFrame.from_dict(firebase_ratings, orient='index')\n",
    "books_df = pd.DataFrame.from_dict(firebase_books, orient='index')"
   ]
  },
  {
   "cell_type": "code",
   "execution_count": 4,
   "id": "524d7377",
   "metadata": {},
   "outputs": [
    {
     "data": {
      "text/html": [
       "<div>\n",
       "<style scoped>\n",
       "    .dataframe tbody tr th:only-of-type {\n",
       "        vertical-align: middle;\n",
       "    }\n",
       "\n",
       "    .dataframe tbody tr th {\n",
       "        vertical-align: top;\n",
       "    }\n",
       "\n",
       "    .dataframe thead th {\n",
       "        text-align: right;\n",
       "    }\n",
       "</style>\n",
       "<table border=\"1\" class=\"dataframe\">\n",
       "  <thead>\n",
       "    <tr style=\"text-align: right;\">\n",
       "      <th></th>\n",
       "      <th>bookId</th>\n",
       "      <th>isbn</th>\n",
       "      <th>myRate</th>\n",
       "      <th>userId</th>\n",
       "    </tr>\n",
       "  </thead>\n",
       "  <tbody>\n",
       "    <tr>\n",
       "      <th>-NWcEFgMwmdaYc-4ndml</th>\n",
       "      <td>-NWcEFeoVaEgjMwiboCA</td>\n",
       "      <td>09781565841000</td>\n",
       "      <td>5.0</td>\n",
       "      <td>3avc3TUJioP8XGD0bLK9xtV7uIG3</td>\n",
       "    </tr>\n",
       "    <tr>\n",
       "      <th>-NWcEGniRUJ0hRQmvclo</th>\n",
       "      <td>-NWcEGmQeH3eiHRZ0w7G</td>\n",
       "      <td>09781929610259</td>\n",
       "      <td>4.5</td>\n",
       "      <td>3avc3TUJioP8XGD0bLK9xtV7uIG3</td>\n",
       "    </tr>\n",
       "    <tr>\n",
       "      <th>-NWcEHtzsgGbN7rpUZ6V</th>\n",
       "      <td>-NWcEHsFfJ3yqXud1NGo</td>\n",
       "      <td>09780814326114</td>\n",
       "      <td>4.0</td>\n",
       "      <td>3avc3TUJioP8XGD0bLK9xtV7uIG3</td>\n",
       "    </tr>\n",
       "    <tr>\n",
       "      <th>-NWcEJunG4PfX-aAVxiF</th>\n",
       "      <td>-NWcEJqjxIyMQv5izHrS</td>\n",
       "      <td>09780312010447</td>\n",
       "      <td>4.5</td>\n",
       "      <td>3avc3TUJioP8XGD0bLK9xtV7uIG3</td>\n",
       "    </tr>\n",
       "    <tr>\n",
       "      <th>-NWcELFol68JZpsfvkyF</th>\n",
       "      <td>-NWcELEEV0QR6EHobxIe</td>\n",
       "      <td>09780143036357</td>\n",
       "      <td>3.5</td>\n",
       "      <td>3avc3TUJioP8XGD0bLK9xtV7uIG3</td>\n",
       "    </tr>\n",
       "  </tbody>\n",
       "</table>\n",
       "</div>"
      ],
      "text/plain": [
       "                                    bookId            isbn  myRate   \n",
       "-NWcEFgMwmdaYc-4ndml  -NWcEFeoVaEgjMwiboCA  09781565841000     5.0  \\\n",
       "-NWcEGniRUJ0hRQmvclo  -NWcEGmQeH3eiHRZ0w7G  09781929610259     4.5   \n",
       "-NWcEHtzsgGbN7rpUZ6V  -NWcEHsFfJ3yqXud1NGo  09780814326114     4.0   \n",
       "-NWcEJunG4PfX-aAVxiF  -NWcEJqjxIyMQv5izHrS  09780312010447     4.5   \n",
       "-NWcELFol68JZpsfvkyF  -NWcELEEV0QR6EHobxIe  09780143036357     3.5   \n",
       "\n",
       "                                            userId  \n",
       "-NWcEFgMwmdaYc-4ndml  3avc3TUJioP8XGD0bLK9xtV7uIG3  \n",
       "-NWcEGniRUJ0hRQmvclo  3avc3TUJioP8XGD0bLK9xtV7uIG3  \n",
       "-NWcEHtzsgGbN7rpUZ6V  3avc3TUJioP8XGD0bLK9xtV7uIG3  \n",
       "-NWcEJunG4PfX-aAVxiF  3avc3TUJioP8XGD0bLK9xtV7uIG3  \n",
       "-NWcELFol68JZpsfvkyF  3avc3TUJioP8XGD0bLK9xtV7uIG3  "
      ]
     },
     "execution_count": 4,
     "metadata": {},
     "output_type": "execute_result"
    }
   ],
   "source": [
    "ratings_df.head()"
   ]
  },
  {
   "cell_type": "code",
   "execution_count": 5,
   "id": "0d414b14",
   "metadata": {},
   "outputs": [
    {
     "data": {
      "text/plain": [
       "696"
      ]
     },
     "execution_count": 5,
     "metadata": {},
     "output_type": "execute_result"
    }
   ],
   "source": [
    "len(set(books_df[\"isbn\"]))"
   ]
  },
  {
   "cell_type": "code",
   "execution_count": 6,
   "id": "3753c3f9",
   "metadata": {},
   "outputs": [
    {
     "data": {
      "text/html": [
       "<div>\n",
       "<style scoped>\n",
       "    .dataframe tbody tr th:only-of-type {\n",
       "        vertical-align: middle;\n",
       "    }\n",
       "\n",
       "    .dataframe tbody tr th {\n",
       "        vertical-align: top;\n",
       "    }\n",
       "\n",
       "    .dataframe thead th {\n",
       "        text-align: right;\n",
       "    }\n",
       "</style>\n",
       "<table border=\"1\" class=\"dataframe\">\n",
       "  <thead>\n",
       "    <tr style=\"text-align: right;\">\n",
       "      <th></th>\n",
       "      <th>author</th>\n",
       "      <th>description</th>\n",
       "      <th>documentId</th>\n",
       "      <th>genre</th>\n",
       "      <th>image</th>\n",
       "      <th>isbn</th>\n",
       "      <th>myRate</th>\n",
       "      <th>pages</th>\n",
       "      <th>publishedYear</th>\n",
       "      <th>rating</th>\n",
       "      <th>title</th>\n",
       "      <th>finishDate</th>\n",
       "      <th>pagesRead</th>\n",
       "      <th>startDate</th>\n",
       "      <th>notes</th>\n",
       "    </tr>\n",
       "  </thead>\n",
       "  <tbody>\n",
       "    <tr>\n",
       "      <th>-NZ6TnNp0OS0Mn3DCvjt</th>\n",
       "      <td>Barbara Fairchild</td>\n",
       "      <td>\"You can always tell a Bon App?tit recipe: It'...</td>\n",
       "      <td></td>\n",
       "      <td>Cooking</td>\n",
       "      <td>https://books.google.com/books/content?id=7VE-...</td>\n",
       "      <td>09780764596865</td>\n",
       "      <td>NaN</td>\n",
       "      <td>816</td>\n",
       "      <td>2006</td>\n",
       "      <td>4.06</td>\n",
       "      <td>The Bon Appetit Cookbook</td>\n",
       "      <td>NaN</td>\n",
       "      <td>NaN</td>\n",
       "      <td>NaN</td>\n",
       "      <td>NaN</td>\n",
       "    </tr>\n",
       "    <tr>\n",
       "      <th>-NZ6To1MjcsmbyVRQ791</th>\n",
       "      <td>Giada De Laurentiis</td>\n",
       "      <td>Presents techniques of Italian home cookery, i...</td>\n",
       "      <td></td>\n",
       "      <td>Cooking</td>\n",
       "      <td>https://books.google.com/books/content?id=OVsc...</td>\n",
       "      <td>09781400052585</td>\n",
       "      <td>NaN</td>\n",
       "      <td>256</td>\n",
       "      <td>2005</td>\n",
       "      <td>3.95</td>\n",
       "      <td>Everyday Italian</td>\n",
       "      <td>NaN</td>\n",
       "      <td>NaN</td>\n",
       "      <td>NaN</td>\n",
       "      <td>NaN</td>\n",
       "    </tr>\n",
       "    <tr>\n",
       "      <th>-NZ6Tod5icltvscrhwzK</th>\n",
       "      <td>Sophie Braimbridge;Erica Jankovich</td>\n",
       "      <td>A noted chef and a dietician join forces to cr...</td>\n",
       "      <td></td>\n",
       "      <td>Cooking</td>\n",
       "      <td>https://books.google.com/books/content?id=cWLm...</td>\n",
       "      <td>09781584794943</td>\n",
       "      <td>NaN</td>\n",
       "      <td>144</td>\n",
       "      <td>2006</td>\n",
       "      <td>2.62</td>\n",
       "      <td>Healthy Cooking for IBS</td>\n",
       "      <td>NaN</td>\n",
       "      <td>NaN</td>\n",
       "      <td>NaN</td>\n",
       "      <td>NaN</td>\n",
       "    </tr>\n",
       "    <tr>\n",
       "      <th>-NZ6TpPNzFU5ADOOyZJg</th>\n",
       "      <td>Garth Ennis;Jeff Youngquist;John McCrea</td>\n",
       "      <td>The most deadly man in the Marvel Universe--Th...</td>\n",
       "      <td></td>\n",
       "      <td>Comics &amp; Graphic Novels</td>\n",
       "      <td>https://books.google.com/books/content?id=XD2w...</td>\n",
       "      <td>09780785113447</td>\n",
       "      <td>NaN</td>\n",
       "      <td>144</td>\n",
       "      <td>2004</td>\n",
       "      <td>4.03</td>\n",
       "      <td>The Punisher</td>\n",
       "      <td>NaN</td>\n",
       "      <td>NaN</td>\n",
       "      <td>NaN</td>\n",
       "      <td>NaN</td>\n",
       "    </tr>\n",
       "    <tr>\n",
       "      <th>-NZ6TpwbVYK6Pq_jXMwW</th>\n",
       "      <td>Robert Kirkman;Charlie Adlard;Cliff Rathburn</td>\n",
       "      <td>Rick mounts a mission to rescue a crashed heli...</td>\n",
       "      <td></td>\n",
       "      <td>Comics &amp; Graphic Novels</td>\n",
       "      <td>https://books.google.com/books/content?id=r30q...</td>\n",
       "      <td>09781582406121</td>\n",
       "      <td>NaN</td>\n",
       "      <td>136</td>\n",
       "      <td>2006</td>\n",
       "      <td>4.29</td>\n",
       "      <td>The Best Defense</td>\n",
       "      <td>NaN</td>\n",
       "      <td>NaN</td>\n",
       "      <td>NaN</td>\n",
       "      <td>NaN</td>\n",
       "    </tr>\n",
       "  </tbody>\n",
       "</table>\n",
       "</div>"
      ],
      "text/plain": [
       "                                                            author   \n",
       "-NZ6TnNp0OS0Mn3DCvjt                             Barbara Fairchild  \\\n",
       "-NZ6To1MjcsmbyVRQ791                           Giada De Laurentiis   \n",
       "-NZ6Tod5icltvscrhwzK            Sophie Braimbridge;Erica Jankovich   \n",
       "-NZ6TpPNzFU5ADOOyZJg       Garth Ennis;Jeff Youngquist;John McCrea   \n",
       "-NZ6TpwbVYK6Pq_jXMwW  Robert Kirkman;Charlie Adlard;Cliff Rathburn   \n",
       "\n",
       "                                                            description   \n",
       "-NZ6TnNp0OS0Mn3DCvjt  \"You can always tell a Bon App?tit recipe: It'...  \\\n",
       "-NZ6To1MjcsmbyVRQ791  Presents techniques of Italian home cookery, i...   \n",
       "-NZ6Tod5icltvscrhwzK  A noted chef and a dietician join forces to cr...   \n",
       "-NZ6TpPNzFU5ADOOyZJg  The most deadly man in the Marvel Universe--Th...   \n",
       "-NZ6TpwbVYK6Pq_jXMwW  Rick mounts a mission to rescue a crashed heli...   \n",
       "\n",
       "                     documentId                    genre   \n",
       "-NZ6TnNp0OS0Mn3DCvjt                             Cooking  \\\n",
       "-NZ6To1MjcsmbyVRQ791                             Cooking   \n",
       "-NZ6Tod5icltvscrhwzK                             Cooking   \n",
       "-NZ6TpPNzFU5ADOOyZJg             Comics & Graphic Novels   \n",
       "-NZ6TpwbVYK6Pq_jXMwW             Comics & Graphic Novels   \n",
       "\n",
       "                                                                  image   \n",
       "-NZ6TnNp0OS0Mn3DCvjt  https://books.google.com/books/content?id=7VE-...  \\\n",
       "-NZ6To1MjcsmbyVRQ791  https://books.google.com/books/content?id=OVsc...   \n",
       "-NZ6Tod5icltvscrhwzK  https://books.google.com/books/content?id=cWLm...   \n",
       "-NZ6TpPNzFU5ADOOyZJg  https://books.google.com/books/content?id=XD2w...   \n",
       "-NZ6TpwbVYK6Pq_jXMwW  https://books.google.com/books/content?id=r30q...   \n",
       "\n",
       "                                isbn  myRate pages publishedYear rating   \n",
       "-NZ6TnNp0OS0Mn3DCvjt  09780764596865     NaN   816          2006   4.06  \\\n",
       "-NZ6To1MjcsmbyVRQ791  09781400052585     NaN   256          2005   3.95   \n",
       "-NZ6Tod5icltvscrhwzK  09781584794943     NaN   144          2006   2.62   \n",
       "-NZ6TpPNzFU5ADOOyZJg  09780785113447     NaN   144          2004   4.03   \n",
       "-NZ6TpwbVYK6Pq_jXMwW  09781582406121     NaN   136          2006   4.29   \n",
       "\n",
       "                                         title finishDate pagesRead startDate   \n",
       "-NZ6TnNp0OS0Mn3DCvjt  The Bon Appetit Cookbook        NaN       NaN       NaN  \\\n",
       "-NZ6To1MjcsmbyVRQ791          Everyday Italian        NaN       NaN       NaN   \n",
       "-NZ6Tod5icltvscrhwzK   Healthy Cooking for IBS        NaN       NaN       NaN   \n",
       "-NZ6TpPNzFU5ADOOyZJg              The Punisher        NaN       NaN       NaN   \n",
       "-NZ6TpwbVYK6Pq_jXMwW          The Best Defense        NaN       NaN       NaN   \n",
       "\n",
       "                     notes  \n",
       "-NZ6TnNp0OS0Mn3DCvjt   NaN  \n",
       "-NZ6To1MjcsmbyVRQ791   NaN  \n",
       "-NZ6Tod5icltvscrhwzK   NaN  \n",
       "-NZ6TpPNzFU5ADOOyZJg   NaN  \n",
       "-NZ6TpwbVYK6Pq_jXMwW   NaN  "
      ]
     },
     "execution_count": 6,
     "metadata": {},
     "output_type": "execute_result"
    }
   ],
   "source": [
    "books_df.tail()"
   ]
  },
  {
   "cell_type": "code",
   "execution_count": 7,
   "id": "f035d19a",
   "metadata": {},
   "outputs": [
    {
     "data": {
      "text/plain": [
       "1014"
      ]
     },
     "execution_count": 7,
     "metadata": {},
     "output_type": "execute_result"
    }
   ],
   "source": [
    "len(books_df)"
   ]
  },
  {
   "cell_type": "code",
   "execution_count": 8,
   "id": "49a0d451",
   "metadata": {},
   "outputs": [],
   "source": [
    "#drop manually added books\n",
    "books_df = books_df[books_df['rating'] != '']"
   ]
  },
  {
   "cell_type": "code",
   "execution_count": 9,
   "id": "3911bbb9",
   "metadata": {},
   "outputs": [
    {
     "data": {
      "text/plain": [
       "1013"
      ]
     },
     "execution_count": 9,
     "metadata": {},
     "output_type": "execute_result"
    }
   ],
   "source": [
    "len(books_df)"
   ]
  },
  {
   "cell_type": "code",
   "execution_count": 10,
   "id": "890ab5e2",
   "metadata": {},
   "outputs": [],
   "source": [
    "books_df = pd.DataFrame(set(books_df[\"isbn\"]),columns=[\"isbn\"])"
   ]
  },
  {
   "cell_type": "code",
   "execution_count": 11,
   "id": "608f7b40",
   "metadata": {},
   "outputs": [
    {
     "data": {
      "text/html": [
       "<div>\n",
       "<style scoped>\n",
       "    .dataframe tbody tr th:only-of-type {\n",
       "        vertical-align: middle;\n",
       "    }\n",
       "\n",
       "    .dataframe tbody tr th {\n",
       "        vertical-align: top;\n",
       "    }\n",
       "\n",
       "    .dataframe thead th {\n",
       "        text-align: right;\n",
       "    }\n",
       "</style>\n",
       "<table border=\"1\" class=\"dataframe\">\n",
       "  <thead>\n",
       "    <tr style=\"text-align: right;\">\n",
       "      <th></th>\n",
       "      <th>isbn</th>\n",
       "    </tr>\n",
       "  </thead>\n",
       "  <tbody>\n",
       "    <tr>\n",
       "      <th>0</th>\n",
       "      <td>09781880685358</td>\n",
       "    </tr>\n",
       "    <tr>\n",
       "      <th>1</th>\n",
       "      <td>09781558321250</td>\n",
       "    </tr>\n",
       "    <tr>\n",
       "      <th>2</th>\n",
       "      <td>09780451185976</td>\n",
       "    </tr>\n",
       "    <tr>\n",
       "      <th>3</th>\n",
       "      <td>09788179921623</td>\n",
       "    </tr>\n",
       "    <tr>\n",
       "      <th>4</th>\n",
       "      <td>09780970312532</td>\n",
       "    </tr>\n",
       "    <tr>\n",
       "      <th>...</th>\n",
       "      <td>...</td>\n",
       "    </tr>\n",
       "    <tr>\n",
       "      <th>690</th>\n",
       "      <td>09780802714626</td>\n",
       "    </tr>\n",
       "    <tr>\n",
       "      <th>691</th>\n",
       "      <td>09781561583768</td>\n",
       "    </tr>\n",
       "    <tr>\n",
       "      <th>692</th>\n",
       "      <td>09780684854465</td>\n",
       "    </tr>\n",
       "    <tr>\n",
       "      <th>693</th>\n",
       "      <td>09780786868698</td>\n",
       "    </tr>\n",
       "    <tr>\n",
       "      <th>694</th>\n",
       "      <td>09780140422153</td>\n",
       "    </tr>\n",
       "  </tbody>\n",
       "</table>\n",
       "<p>695 rows × 1 columns</p>\n",
       "</div>"
      ],
      "text/plain": [
       "               isbn\n",
       "0    09781880685358\n",
       "1    09781558321250\n",
       "2    09780451185976\n",
       "3    09788179921623\n",
       "4    09780970312532\n",
       "..              ...\n",
       "690  09780802714626\n",
       "691  09781561583768\n",
       "692  09780684854465\n",
       "693  09780786868698\n",
       "694  09780140422153\n",
       "\n",
       "[695 rows x 1 columns]"
      ]
     },
     "execution_count": 11,
     "metadata": {},
     "output_type": "execute_result"
    }
   ],
   "source": [
    "books_df"
   ]
  },
  {
   "cell_type": "code",
   "execution_count": 12,
   "id": "40e30d05",
   "metadata": {
    "scrolled": true
   },
   "outputs": [],
   "source": [
    "#transforms dataframes in datasets with tensor\n",
    "ratings_dataset = tf.data.Dataset.from_tensor_slices(dict(ratings_df))\n",
    "books_dataset = tf.data.Dataset.from_tensor_slices(dict(books_df))"
   ]
  },
  {
   "cell_type": "code",
   "execution_count": 13,
   "id": "c3998add",
   "metadata": {},
   "outputs": [],
   "source": [
    "ratings = ratings_dataset.map(lambda x: {\n",
    "    \"book_isbn\": x[\"isbn\"],\n",
    "    \"user_id\": x[\"userId\"],\n",
    "    \"user_rating\": x[\"myRate\"],\n",
    "})\n",
    "books = books_dataset.map(lambda x: x[\"isbn\"])"
   ]
  },
  {
   "cell_type": "code",
   "execution_count": 14,
   "id": "5fb7f8bd",
   "metadata": {},
   "outputs": [
    {
     "data": {
      "text/plain": [
       "<_MapDataset element_spec={'book_isbn': TensorSpec(shape=(), dtype=tf.string, name=None), 'user_id': TensorSpec(shape=(), dtype=tf.string, name=None), 'user_rating': TensorSpec(shape=(), dtype=tf.float64, name=None)}>"
      ]
     },
     "execution_count": 14,
     "metadata": {},
     "output_type": "execute_result"
    }
   ],
   "source": [
    "ratings"
   ]
  },
  {
   "cell_type": "code",
   "execution_count": 15,
   "id": "6fe2edcf",
   "metadata": {},
   "outputs": [
    {
     "data": {
      "text/plain": [
       "<_MapDataset element_spec=TensorSpec(shape=(), dtype=tf.string, name=None)>"
      ]
     },
     "execution_count": 15,
     "metadata": {},
     "output_type": "execute_result"
    }
   ],
   "source": [
    "books"
   ]
  },
  {
   "cell_type": "code",
   "execution_count": 16,
   "id": "09944ae3",
   "metadata": {},
   "outputs": [
    {
     "data": {
      "text/plain": [
       "695"
      ]
     },
     "execution_count": 16,
     "metadata": {},
     "output_type": "execute_result"
    }
   ],
   "source": [
    "len(books)"
   ]
  },
  {
   "cell_type": "code",
   "execution_count": 17,
   "id": "05052803",
   "metadata": {},
   "outputs": [
    {
     "data": {
      "text/plain": [
       "1014"
      ]
     },
     "execution_count": 17,
     "metadata": {},
     "output_type": "execute_result"
    }
   ],
   "source": [
    "len(ratings)"
   ]
  },
  {
   "cell_type": "code",
   "execution_count": 18,
   "id": "7723db16",
   "metadata": {},
   "outputs": [],
   "source": [
    "# Randomly shuffle data and split between train and test.\n",
    "tf.random.set_seed(42)\n",
    "shuffled = ratings.shuffle(len(ratings_df), seed=42, reshuffle_each_iteration=False)\n",
    "\n",
    "train = shuffled.take(800)\n",
    "test = shuffled.skip(800).take(210)\n",
    "\n",
    "book_isbns = books.batch(25) #100 50\n",
    "user_ids = ratings.batch(10_000).map(lambda x: x[\"user_id\"])\n",
    "\n",
    "unique_book_isbns = np.unique(np.concatenate(list(book_isbns)))\n",
    "unique_user_ids = np.unique(np.concatenate(list(user_ids)))"
   ]
  },
  {
   "cell_type": "markdown",
   "id": "b9eea7ce",
   "metadata": {},
   "source": [
    "## A multi-task model"
   ]
  },
  {
   "cell_type": "code",
   "execution_count": 19,
   "id": "b721f062",
   "metadata": {},
   "outputs": [],
   "source": [
    "class BookModel(tfrs.models.Model):\n",
    "\n",
    "    def __init__(self, rating_weight: float, retrieval_weight: float) -> None:\n",
    "        super().__init__()\n",
    "\n",
    "        embedding_dimension = 64 #32\n",
    "\n",
    "        # User and book models.\n",
    "        self.book_model: tf.keras.layers.Layer = tf.keras.Sequential([\n",
    "          tf.keras.layers.StringLookup(\n",
    "            vocabulary=unique_book_isbns, mask_token=None),\n",
    "          tf.keras.layers.Embedding(len(unique_book_isbns) + 1, embedding_dimension)\n",
    "        ])\n",
    "        self.user_model: tf.keras.layers.Layer = tf.keras.Sequential([\n",
    "          tf.keras.layers.StringLookup(\n",
    "            vocabulary=unique_user_ids, mask_token=None),\n",
    "          tf.keras.layers.Embedding(len(unique_user_ids) + 1, embedding_dimension)\n",
    "        ])\n",
    "\n",
    "        # Rating model\n",
    "        self.rating_model = tf.keras.Sequential([\n",
    "            tf.keras.layers.Dense(512, activation=\"relu\"),\n",
    "            tf.keras.layers.Dropout(0.3),\n",
    "            tf.keras.layers.Dense(256, activation=\"relu\"),\n",
    "            tf.keras.layers.Dropout(0.2),\n",
    "            tf.keras.layers.Dense(128, activation=\"relu\"),\n",
    "            tf.keras.layers.Dropout(0.2),\n",
    "            tf.keras.layers.Dense(32, activation=\"relu\"),\n",
    "            tf.keras.layers.Dense(1),\n",
    "        ])\n",
    "\n",
    "        # The tasks.\n",
    "        self.rating_task: tf.keras.layers.Layer = tfrs.tasks.Ranking(\n",
    "            loss=tf.keras.losses.MeanSquaredError(),\n",
    "            metrics=[tf.keras.metrics.RootMeanSquaredError()],\n",
    "        )\n",
    "        self.retrieval_task: tf.keras.layers.Layer = tfrs.tasks.Retrieval(\n",
    "            metrics=tfrs.metrics.FactorizedTopK(\n",
    "                candidates=books.batch(16).map(self.book_model) #128 32\n",
    "            )\n",
    "        )\n",
    "\n",
    "        # The loss weights.\n",
    "        self.rating_weight = rating_weight\n",
    "        self.retrieval_weight = retrieval_weight\n",
    "\n",
    "    def call(self, features: Dict[Text, tf.Tensor]) -> tf.Tensor:\n",
    "       \n",
    "        user_embeddings = self.user_model(features[\"user_id\"])\n",
    "       \n",
    "        book_embeddings = self.book_model(features[\"book_isbn\"])\n",
    "\n",
    "        return (\n",
    "            user_embeddings,\n",
    "            book_embeddings,\n",
    "            # We apply the multi-layered rating model to a concatentation of\n",
    "            # user and book embeddings.\n",
    "            self.rating_model(\n",
    "                tf.concat([user_embeddings, book_embeddings], axis=1)\n",
    "            ),\n",
    "        )\n",
    "\n",
    "    def compute_loss(self, features: Dict[Text, tf.Tensor], training=False) -> tf.Tensor:\n",
    "\n",
    "        ratings = features.pop(\"user_rating\")\n",
    "\n",
    "        user_embeddings, book_embeddings, rating_predictions = self(features)\n",
    "\n",
    "        # We compute the loss for each task.\n",
    "        rating_loss = self.rating_task(\n",
    "            labels=ratings,\n",
    "            predictions=rating_predictions,\n",
    "        )\n",
    "        retrieval_loss = self.retrieval_task(user_embeddings, book_embeddings)\n",
    "        # And combine them using the loss weights.\n",
    "        return (self.rating_weight * rating_loss\n",
    "                + self.retrieval_weight * retrieval_loss)"
   ]
  },
  {
   "cell_type": "markdown",
   "id": "d95e8afb",
   "metadata": {},
   "source": [
    "## Rating-specialized model"
   ]
  },
  {
   "cell_type": "code",
   "execution_count": 20,
   "id": "bce381b5",
   "metadata": {},
   "outputs": [],
   "source": [
    "model = BookModel(rating_weight=1.0, retrieval_weight=0.0)\n",
    "model.compile(optimizer=tf.keras.optimizers.AdamW(0.005))"
   ]
  },
  {
   "cell_type": "code",
   "execution_count": 21,
   "id": "c51fc3ee",
   "metadata": {},
   "outputs": [],
   "source": [
    "cached_train = train.shuffle(800).batch(32).cache() #128 64\n",
    "cached_test = test.batch(16).cache() #64 32"
   ]
  },
  {
   "cell_type": "code",
   "execution_count": null,
   "id": "726ea9bb",
   "metadata": {},
   "outputs": [
    {
     "name": "stdout",
     "output_type": "stream",
     "text": [
      "Epoch 1/100\n",
      "25/25 [==============================] - 5s 65ms/step - root_mean_squared_error: 1.8759 - factorized_top_k/top_1_categorical_accuracy: 0.0012 - factorized_top_k/top_5_categorical_accuracy: 0.0050 - factorized_top_k/top_10_categorical_accuracy: 0.0088 - factorized_top_k/top_50_categorical_accuracy: 0.0450 - factorized_top_k/top_100_categorical_accuracy: 0.1125 - loss: 3.4547 - regularization_loss: 0.0000e+00 - total_loss: 3.4547\n",
      "Epoch 2/100\n",
      "25/25 [==============================] - 2s 66ms/step - root_mean_squared_error: 1.1355 - factorized_top_k/top_1_categorical_accuracy: 0.0000e+00 - factorized_top_k/top_5_categorical_accuracy: 0.0025 - factorized_top_k/top_10_categorical_accuracy: 0.0075 - factorized_top_k/top_50_categorical_accuracy: 0.0700 - factorized_top_k/top_100_categorical_accuracy: 0.1363 - loss: 1.2767 - regularization_loss: 0.0000e+00 - total_loss: 1.2767\n",
      "Epoch 3/100\n",
      "25/25 [==============================] - 2s 66ms/step - root_mean_squared_error: 0.9225 - factorized_top_k/top_1_categorical_accuracy: 0.0000e+00 - factorized_top_k/top_5_categorical_accuracy: 0.0037 - factorized_top_k/top_10_categorical_accuracy: 0.0113 - factorized_top_k/top_50_categorical_accuracy: 0.0787 - factorized_top_k/top_100_categorical_accuracy: 0.1475 - loss: 0.8622 - regularization_loss: 0.0000e+00 - total_loss: 0.8622\n",
      "Epoch 4/100\n",
      "25/25 [==============================] - 2s 66ms/step - root_mean_squared_error: 1.1048 - factorized_top_k/top_1_categorical_accuracy: 0.0000e+00 - factorized_top_k/top_5_categorical_accuracy: 0.0037 - factorized_top_k/top_10_categorical_accuracy: 0.0100 - factorized_top_k/top_50_categorical_accuracy: 0.0825 - factorized_top_k/top_100_categorical_accuracy: 0.1600 - loss: 1.1979 - regularization_loss: 0.0000e+00 - total_loss: 1.1979\n",
      "Epoch 5/100\n",
      "25/25 [==============================] - 2s 65ms/step - root_mean_squared_error: 1.0453 - factorized_top_k/top_1_categorical_accuracy: 0.0000e+00 - factorized_top_k/top_5_categorical_accuracy: 0.0037 - factorized_top_k/top_10_categorical_accuracy: 0.0125 - factorized_top_k/top_50_categorical_accuracy: 0.0763 - factorized_top_k/top_100_categorical_accuracy: 0.1575 - loss: 1.0649 - regularization_loss: 0.0000e+00 - total_loss: 1.0649\n",
      "Epoch 6/100\n",
      "25/25 [==============================] - 2s 67ms/step - root_mean_squared_error: 1.3028 - factorized_top_k/top_1_categorical_accuracy: 0.0000e+00 - factorized_top_k/top_5_categorical_accuracy: 0.0012 - factorized_top_k/top_10_categorical_accuracy: 0.0075 - factorized_top_k/top_50_categorical_accuracy: 0.0725 - factorized_top_k/top_100_categorical_accuracy: 0.1475 - loss: 1.6973 - regularization_loss: 0.0000e+00 - total_loss: 1.6973\n",
      "Epoch 7/100\n",
      "25/25 [==============================] - 2s 68ms/step - root_mean_squared_error: 1.1027 - factorized_top_k/top_1_categorical_accuracy: 0.0000e+00 - factorized_top_k/top_5_categorical_accuracy: 0.0012 - factorized_top_k/top_10_categorical_accuracy: 0.0050 - factorized_top_k/top_50_categorical_accuracy: 0.0688 - factorized_top_k/top_100_categorical_accuracy: 0.1612 - loss: 1.1928 - regularization_loss: 0.0000e+00 - total_loss: 1.1928\n",
      "Epoch 8/100\n",
      "25/25 [==============================] - 2s 67ms/step - root_mean_squared_error: 1.0165 - factorized_top_k/top_1_categorical_accuracy: 0.0000e+00 - factorized_top_k/top_5_categorical_accuracy: 0.0037 - factorized_top_k/top_10_categorical_accuracy: 0.0075 - factorized_top_k/top_50_categorical_accuracy: 0.0700 - factorized_top_k/top_100_categorical_accuracy: 0.1475 - loss: 1.0663 - regularization_loss: 0.0000e+00 - total_loss: 1.0663\n",
      "Epoch 9/100\n",
      "25/25 [==============================] - 2s 66ms/step - root_mean_squared_error: 1.4964 - factorized_top_k/top_1_categorical_accuracy: 0.0000e+00 - factorized_top_k/top_5_categorical_accuracy: 0.0012 - factorized_top_k/top_10_categorical_accuracy: 0.0037 - factorized_top_k/top_50_categorical_accuracy: 0.0700 - factorized_top_k/top_100_categorical_accuracy: 0.1562 - loss: 2.1678 - regularization_loss: 0.0000e+00 - total_loss: 2.1678\n",
      "Epoch 10/100\n",
      "25/25 [==============================] - 2s 65ms/step - root_mean_squared_error: 0.8170 - factorized_top_k/top_1_categorical_accuracy: 0.0000e+00 - factorized_top_k/top_5_categorical_accuracy: 0.0000e+00 - factorized_top_k/top_10_categorical_accuracy: 0.0088 - factorized_top_k/top_50_categorical_accuracy: 0.0862 - factorized_top_k/top_100_categorical_accuracy: 0.1675 - loss: 0.6598 - regularization_loss: 0.0000e+00 - total_loss: 0.6598\n",
      "Epoch 11/100\n",
      "25/25 [==============================] - 2s 65ms/step - root_mean_squared_error: 0.7084 - factorized_top_k/top_1_categorical_accuracy: 0.0000e+00 - factorized_top_k/top_5_categorical_accuracy: 0.0000e+00 - factorized_top_k/top_10_categorical_accuracy: 0.0088 - factorized_top_k/top_50_categorical_accuracy: 0.0812 - factorized_top_k/top_100_categorical_accuracy: 0.1650 - loss: 0.4916 - regularization_loss: 0.0000e+00 - total_loss: 0.4916\n",
      "Epoch 12/100\n",
      "25/25 [==============================] - 2s 65ms/step - root_mean_squared_error: 0.5285 - factorized_top_k/top_1_categorical_accuracy: 0.0000e+00 - factorized_top_k/top_5_categorical_accuracy: 0.0012 - factorized_top_k/top_10_categorical_accuracy: 0.0088 - factorized_top_k/top_50_categorical_accuracy: 0.0725 - factorized_top_k/top_100_categorical_accuracy: 0.1675 - loss: 0.2816 - regularization_loss: 0.0000e+00 - total_loss: 0.2816\n",
      "Epoch 13/100\n",
      "25/25 [==============================] - 2s 65ms/step - root_mean_squared_error: 0.4491 - factorized_top_k/top_1_categorical_accuracy: 0.0000e+00 - factorized_top_k/top_5_categorical_accuracy: 0.0025 - factorized_top_k/top_10_categorical_accuracy: 0.0075 - factorized_top_k/top_50_categorical_accuracy: 0.0775 - factorized_top_k/top_100_categorical_accuracy: 0.1713 - loss: 0.1987 - regularization_loss: 0.0000e+00 - total_loss: 0.1987\n",
      "Epoch 14/100\n",
      "25/25 [==============================] - 2s 65ms/step - root_mean_squared_error: 0.4079 - factorized_top_k/top_1_categorical_accuracy: 0.0000e+00 - factorized_top_k/top_5_categorical_accuracy: 0.0037 - factorized_top_k/top_10_categorical_accuracy: 0.0075 - factorized_top_k/top_50_categorical_accuracy: 0.0750 - factorized_top_k/top_100_categorical_accuracy: 0.1775 - loss: 0.1636 - regularization_loss: 0.0000e+00 - total_loss: 0.1636\n",
      "Epoch 15/100\n",
      "25/25 [==============================] - 2s 65ms/step - root_mean_squared_error: 0.4959 - factorized_top_k/top_1_categorical_accuracy: 0.0000e+00 - factorized_top_k/top_5_categorical_accuracy: 0.0037 - factorized_top_k/top_10_categorical_accuracy: 0.0075 - factorized_top_k/top_50_categorical_accuracy: 0.0800 - factorized_top_k/top_100_categorical_accuracy: 0.1787 - loss: 0.2478 - regularization_loss: 0.0000e+00 - total_loss: 0.2478\n",
      "Epoch 16/100\n",
      "25/25 [==============================] - 2s 65ms/step - root_mean_squared_error: 0.4304 - factorized_top_k/top_1_categorical_accuracy: 0.0000e+00 - factorized_top_k/top_5_categorical_accuracy: 0.0012 - factorized_top_k/top_10_categorical_accuracy: 0.0075 - factorized_top_k/top_50_categorical_accuracy: 0.0712 - factorized_top_k/top_100_categorical_accuracy: 0.1762 - loss: 0.1857 - regularization_loss: 0.0000e+00 - total_loss: 0.1857\n",
      "Epoch 17/100\n",
      "25/25 [==============================] - 2s 65ms/step - root_mean_squared_error: 0.5373 - factorized_top_k/top_1_categorical_accuracy: 0.0012 - factorized_top_k/top_5_categorical_accuracy: 0.0025 - factorized_top_k/top_10_categorical_accuracy: 0.0075 - factorized_top_k/top_50_categorical_accuracy: 0.0712 - factorized_top_k/top_100_categorical_accuracy: 0.1775 - loss: 0.2799 - regularization_loss: 0.0000e+00 - total_loss: 0.2799\n",
      "Epoch 18/100\n",
      "25/25 [==============================] - 2s 66ms/step - root_mean_squared_error: 0.4299 - factorized_top_k/top_1_categorical_accuracy: 0.0000e+00 - factorized_top_k/top_5_categorical_accuracy: 0.0025 - factorized_top_k/top_10_categorical_accuracy: 0.0100 - factorized_top_k/top_50_categorical_accuracy: 0.0737 - factorized_top_k/top_100_categorical_accuracy: 0.1700 - loss: 0.1850 - regularization_loss: 0.0000e+00 - total_loss: 0.1850\n",
      "Epoch 19/100\n"
     ]
    },
    {
     "name": "stdout",
     "output_type": "stream",
     "text": [
      "25/25 [==============================] - 2s 65ms/step - root_mean_squared_error: 0.5370 - factorized_top_k/top_1_categorical_accuracy: 0.0000e+00 - factorized_top_k/top_5_categorical_accuracy: 0.0025 - factorized_top_k/top_10_categorical_accuracy: 0.0075 - factorized_top_k/top_50_categorical_accuracy: 0.0750 - factorized_top_k/top_100_categorical_accuracy: 0.1850 - loss: 0.2897 - regularization_loss: 0.0000e+00 - total_loss: 0.2897\n",
      "Epoch 20/100\n",
      "25/25 [==============================] - 2s 65ms/step - root_mean_squared_error: 0.5407 - factorized_top_k/top_1_categorical_accuracy: 0.0000e+00 - factorized_top_k/top_5_categorical_accuracy: 0.0025 - factorized_top_k/top_10_categorical_accuracy: 0.0100 - factorized_top_k/top_50_categorical_accuracy: 0.0787 - factorized_top_k/top_100_categorical_accuracy: 0.1825 - loss: 0.2981 - regularization_loss: 0.0000e+00 - total_loss: 0.2981\n",
      "Epoch 21/100\n",
      "25/25 [==============================] - 2s 65ms/step - root_mean_squared_error: 0.7433 - factorized_top_k/top_1_categorical_accuracy: 0.0000e+00 - factorized_top_k/top_5_categorical_accuracy: 0.0025 - factorized_top_k/top_10_categorical_accuracy: 0.0075 - factorized_top_k/top_50_categorical_accuracy: 0.0775 - factorized_top_k/top_100_categorical_accuracy: 0.1675 - loss: 0.5403 - regularization_loss: 0.0000e+00 - total_loss: 0.5403\n",
      "Epoch 22/100\n",
      "25/25 [==============================] - 2s 64ms/step - root_mean_squared_error: 0.4928 - factorized_top_k/top_1_categorical_accuracy: 0.0012 - factorized_top_k/top_5_categorical_accuracy: 0.0037 - factorized_top_k/top_10_categorical_accuracy: 0.0100 - factorized_top_k/top_50_categorical_accuracy: 0.0787 - factorized_top_k/top_100_categorical_accuracy: 0.1737 - loss: 0.2395 - regularization_loss: 0.0000e+00 - total_loss: 0.2395\n",
      "Epoch 23/100\n",
      "25/25 [==============================] - 2s 66ms/step - root_mean_squared_error: 0.4094 - factorized_top_k/top_1_categorical_accuracy: 0.0025 - factorized_top_k/top_5_categorical_accuracy: 0.0075 - factorized_top_k/top_10_categorical_accuracy: 0.0125 - factorized_top_k/top_50_categorical_accuracy: 0.0800 - factorized_top_k/top_100_categorical_accuracy: 0.1750 - loss: 0.1656 - regularization_loss: 0.0000e+00 - total_loss: 0.1656\n",
      "Epoch 24/100\n",
      "25/25 [==============================] - 2s 66ms/step - root_mean_squared_error: 0.3898 - factorized_top_k/top_1_categorical_accuracy: 0.0012 - factorized_top_k/top_5_categorical_accuracy: 0.0088 - factorized_top_k/top_10_categorical_accuracy: 0.0113 - factorized_top_k/top_50_categorical_accuracy: 0.0812 - factorized_top_k/top_100_categorical_accuracy: 0.1887 - loss: 0.1490 - regularization_loss: 0.0000e+00 - total_loss: 0.1490\n",
      "Epoch 25/100\n",
      "25/25 [==============================] - 2s 64ms/step - root_mean_squared_error: 0.4044 - factorized_top_k/top_1_categorical_accuracy: 0.0025 - factorized_top_k/top_5_categorical_accuracy: 0.0063 - factorized_top_k/top_10_categorical_accuracy: 0.0113 - factorized_top_k/top_50_categorical_accuracy: 0.0838 - factorized_top_k/top_100_categorical_accuracy: 0.1850 - loss: 0.1602 - regularization_loss: 0.0000e+00 - total_loss: 0.1602\n",
      "Epoch 26/100\n",
      "25/25 [==============================] - 2s 65ms/step - root_mean_squared_error: 0.4339 - factorized_top_k/top_1_categorical_accuracy: 0.0012 - factorized_top_k/top_5_categorical_accuracy: 0.0063 - factorized_top_k/top_10_categorical_accuracy: 0.0150 - factorized_top_k/top_50_categorical_accuracy: 0.0887 - factorized_top_k/top_100_categorical_accuracy: 0.1787 - loss: 0.1987 - regularization_loss: 0.0000e+00 - total_loss: 0.1987\n",
      "Epoch 27/100\n",
      "25/25 [==============================] - 2s 66ms/step - root_mean_squared_error: 0.4902 - factorized_top_k/top_1_categorical_accuracy: 0.0000e+00 - factorized_top_k/top_5_categorical_accuracy: 0.0075 - factorized_top_k/top_10_categorical_accuracy: 0.0100 - factorized_top_k/top_50_categorical_accuracy: 0.0775 - factorized_top_k/top_100_categorical_accuracy: 0.1750 - loss: 0.2416 - regularization_loss: 0.0000e+00 - total_loss: 0.2416\n",
      "Epoch 28/100\n",
      "25/25 [==============================] - 2s 67ms/step - root_mean_squared_error: 0.4199 - factorized_top_k/top_1_categorical_accuracy: 0.0012 - factorized_top_k/top_5_categorical_accuracy: 0.0088 - factorized_top_k/top_10_categorical_accuracy: 0.0113 - factorized_top_k/top_50_categorical_accuracy: 0.0825 - factorized_top_k/top_100_categorical_accuracy: 0.1650 - loss: 0.1746 - regularization_loss: 0.0000e+00 - total_loss: 0.1746\n",
      "Epoch 29/100\n",
      "25/25 [==============================] - 2s 67ms/step - root_mean_squared_error: 0.4795 - factorized_top_k/top_1_categorical_accuracy: 0.0000e+00 - factorized_top_k/top_5_categorical_accuracy: 0.0088 - factorized_top_k/top_10_categorical_accuracy: 0.0113 - factorized_top_k/top_50_categorical_accuracy: 0.0763 - factorized_top_k/top_100_categorical_accuracy: 0.1650 - loss: 0.2394 - regularization_loss: 0.0000e+00 - total_loss: 0.2394\n",
      "Epoch 30/100\n",
      "25/25 [==============================] - 2s 66ms/step - root_mean_squared_error: 0.4406 - factorized_top_k/top_1_categorical_accuracy: 0.0025 - factorized_top_k/top_5_categorical_accuracy: 0.0075 - factorized_top_k/top_10_categorical_accuracy: 0.0113 - factorized_top_k/top_50_categorical_accuracy: 0.0787 - factorized_top_k/top_100_categorical_accuracy: 0.1675 - loss: 0.1906 - regularization_loss: 0.0000e+00 - total_loss: 0.1906\n",
      "Epoch 31/100\n",
      "25/25 [==============================] - 2s 65ms/step - root_mean_squared_error: 0.5084 - factorized_top_k/top_1_categorical_accuracy: 0.0025 - factorized_top_k/top_5_categorical_accuracy: 0.0113 - factorized_top_k/top_10_categorical_accuracy: 0.0137 - factorized_top_k/top_50_categorical_accuracy: 0.0925 - factorized_top_k/top_100_categorical_accuracy: 0.1762 - loss: 0.2614 - regularization_loss: 0.0000e+00 - total_loss: 0.2614\n",
      "Epoch 32/100\n",
      "25/25 [==============================] - 2s 65ms/step - root_mean_squared_error: 0.5332 - factorized_top_k/top_1_categorical_accuracy: 0.0037 - factorized_top_k/top_5_categorical_accuracy: 0.0100 - factorized_top_k/top_10_categorical_accuracy: 0.0188 - factorized_top_k/top_50_categorical_accuracy: 0.0913 - factorized_top_k/top_100_categorical_accuracy: 0.1675 - loss: 0.2909 - regularization_loss: 0.0000e+00 - total_loss: 0.2909\n",
      "Epoch 33/100\n",
      "25/25 [==============================] - 2s 66ms/step - root_mean_squared_error: 0.5115 - factorized_top_k/top_1_categorical_accuracy: 0.0012 - factorized_top_k/top_5_categorical_accuracy: 0.0075 - factorized_top_k/top_10_categorical_accuracy: 0.0150 - factorized_top_k/top_50_categorical_accuracy: 0.0913 - factorized_top_k/top_100_categorical_accuracy: 0.1762 - loss: 0.2580 - regularization_loss: 0.0000e+00 - total_loss: 0.2580\n",
      "Epoch 34/100\n",
      "25/25 [==============================] - 2s 65ms/step - root_mean_squared_error: 0.4970 - factorized_top_k/top_1_categorical_accuracy: 0.0025 - factorized_top_k/top_5_categorical_accuracy: 0.0050 - factorized_top_k/top_10_categorical_accuracy: 0.0150 - factorized_top_k/top_50_categorical_accuracy: 0.0838 - factorized_top_k/top_100_categorical_accuracy: 0.1800 - loss: 0.2404 - regularization_loss: 0.0000e+00 - total_loss: 0.2404\n",
      "Epoch 35/100\n",
      "25/25 [==============================] - 2s 66ms/step - root_mean_squared_error: 0.6132 - factorized_top_k/top_1_categorical_accuracy: 0.0012 - factorized_top_k/top_5_categorical_accuracy: 0.0063 - factorized_top_k/top_10_categorical_accuracy: 0.0100 - factorized_top_k/top_50_categorical_accuracy: 0.0812 - factorized_top_k/top_100_categorical_accuracy: 0.1887 - loss: 0.3698 - regularization_loss: 0.0000e+00 - total_loss: 0.3698\n",
      "Epoch 36/100\n",
      "25/25 [==============================] - 2s 65ms/step - root_mean_squared_error: 0.6190 - factorized_top_k/top_1_categorical_accuracy: 0.0000e+00 - factorized_top_k/top_5_categorical_accuracy: 0.0050 - factorized_top_k/top_10_categorical_accuracy: 0.0100 - factorized_top_k/top_50_categorical_accuracy: 0.0850 - factorized_top_k/top_100_categorical_accuracy: 0.1762 - loss: 0.3964 - regularization_loss: 0.0000e+00 - total_loss: 0.3964\n",
      "Epoch 37/100\n"
     ]
    },
    {
     "name": "stdout",
     "output_type": "stream",
     "text": [
      "25/25 [==============================] - 2s 64ms/step - root_mean_squared_error: 0.6842 - factorized_top_k/top_1_categorical_accuracy: 0.0000e+00 - factorized_top_k/top_5_categorical_accuracy: 0.0063 - factorized_top_k/top_10_categorical_accuracy: 0.0125 - factorized_top_k/top_50_categorical_accuracy: 0.0838 - factorized_top_k/top_100_categorical_accuracy: 0.1737 - loss: 0.4783 - regularization_loss: 0.0000e+00 - total_loss: 0.4783\n",
      "Epoch 38/100\n",
      "25/25 [==============================] - 2s 68ms/step - root_mean_squared_error: 0.6412 - factorized_top_k/top_1_categorical_accuracy: 0.0012 - factorized_top_k/top_5_categorical_accuracy: 0.0075 - factorized_top_k/top_10_categorical_accuracy: 0.0137 - factorized_top_k/top_50_categorical_accuracy: 0.0838 - factorized_top_k/top_100_categorical_accuracy: 0.1775 - loss: 0.4092 - regularization_loss: 0.0000e+00 - total_loss: 0.4092\n",
      "Epoch 39/100\n",
      "25/25 [==============================] - 2s 68ms/step - root_mean_squared_error: 0.5811 - factorized_top_k/top_1_categorical_accuracy: 0.0000e+00 - factorized_top_k/top_5_categorical_accuracy: 0.0075 - factorized_top_k/top_10_categorical_accuracy: 0.0088 - factorized_top_k/top_50_categorical_accuracy: 0.0787 - factorized_top_k/top_100_categorical_accuracy: 0.1750 - loss: 0.3324 - regularization_loss: 0.0000e+00 - total_loss: 0.3324\n",
      "Epoch 40/100\n",
      "25/25 [==============================] - 2s 66ms/step - root_mean_squared_error: 0.5081 - factorized_top_k/top_1_categorical_accuracy: 0.0012 - factorized_top_k/top_5_categorical_accuracy: 0.0063 - factorized_top_k/top_10_categorical_accuracy: 0.0100 - factorized_top_k/top_50_categorical_accuracy: 0.0763 - factorized_top_k/top_100_categorical_accuracy: 0.1787 - loss: 0.2577 - regularization_loss: 0.0000e+00 - total_loss: 0.2577\n",
      "Epoch 41/100\n",
      "25/25 [==============================] - 2s 65ms/step - root_mean_squared_error: 0.3931 - factorized_top_k/top_1_categorical_accuracy: 0.0000e+00 - factorized_top_k/top_5_categorical_accuracy: 0.0063 - factorized_top_k/top_10_categorical_accuracy: 0.0100 - factorized_top_k/top_50_categorical_accuracy: 0.0750 - factorized_top_k/top_100_categorical_accuracy: 0.1775 - loss: 0.1571 - regularization_loss: 0.0000e+00 - total_loss: 0.1571\n",
      "Epoch 42/100\n",
      "25/25 [==============================] - 2s 65ms/step - root_mean_squared_error: 0.3489 - factorized_top_k/top_1_categorical_accuracy: 0.0000e+00 - factorized_top_k/top_5_categorical_accuracy: 0.0037 - factorized_top_k/top_10_categorical_accuracy: 0.0100 - factorized_top_k/top_50_categorical_accuracy: 0.0675 - factorized_top_k/top_100_categorical_accuracy: 0.1737 - loss: 0.1204 - regularization_loss: 0.0000e+00 - total_loss: 0.1204\n",
      "Epoch 43/100\n",
      "25/25 [==============================] - 2s 66ms/step - root_mean_squared_error: 0.4013 - factorized_top_k/top_1_categorical_accuracy: 0.0012 - factorized_top_k/top_5_categorical_accuracy: 0.0050 - factorized_top_k/top_10_categorical_accuracy: 0.0075 - factorized_top_k/top_50_categorical_accuracy: 0.0700 - factorized_top_k/top_100_categorical_accuracy: 0.1762 - loss: 0.1602 - regularization_loss: 0.0000e+00 - total_loss: 0.1602\n",
      "Epoch 44/100\n",
      "25/25 [==============================] - 2s 65ms/step - root_mean_squared_error: 0.3858 - factorized_top_k/top_1_categorical_accuracy: 0.0012 - factorized_top_k/top_5_categorical_accuracy: 0.0050 - factorized_top_k/top_10_categorical_accuracy: 0.0075 - factorized_top_k/top_50_categorical_accuracy: 0.0725 - factorized_top_k/top_100_categorical_accuracy: 0.1700 - loss: 0.1500 - regularization_loss: 0.0000e+00 - total_loss: 0.1500\n",
      "Epoch 45/100\n",
      "25/25 [==============================] - 2s 65ms/step - root_mean_squared_error: 0.3799 - factorized_top_k/top_1_categorical_accuracy: 0.0012 - factorized_top_k/top_5_categorical_accuracy: 0.0037 - factorized_top_k/top_10_categorical_accuracy: 0.0100 - factorized_top_k/top_50_categorical_accuracy: 0.0775 - factorized_top_k/top_100_categorical_accuracy: 0.1725 - loss: 0.1418 - regularization_loss: 0.0000e+00 - total_loss: 0.1418\n",
      "Epoch 46/100\n",
      "25/25 [==============================] - 2s 68ms/step - root_mean_squared_error: 0.3257 - factorized_top_k/top_1_categorical_accuracy: 0.0012 - factorized_top_k/top_5_categorical_accuracy: 0.0063 - factorized_top_k/top_10_categorical_accuracy: 0.0088 - factorized_top_k/top_50_categorical_accuracy: 0.0787 - factorized_top_k/top_100_categorical_accuracy: 0.1750 - loss: 0.1087 - regularization_loss: 0.0000e+00 - total_loss: 0.1087\n",
      "Epoch 47/100\n",
      "25/25 [==============================] - 2s 68ms/step - root_mean_squared_error: 0.3536 - factorized_top_k/top_1_categorical_accuracy: 0.0012 - factorized_top_k/top_5_categorical_accuracy: 0.0075 - factorized_top_k/top_10_categorical_accuracy: 0.0113 - factorized_top_k/top_50_categorical_accuracy: 0.0800 - factorized_top_k/top_100_categorical_accuracy: 0.1787 - loss: 0.1248 - regularization_loss: 0.0000e+00 - total_loss: 0.1248\n",
      "Epoch 48/100\n",
      "25/25 [==============================] - 2s 67ms/step - root_mean_squared_error: 0.3519 - factorized_top_k/top_1_categorical_accuracy: 0.0000e+00 - factorized_top_k/top_5_categorical_accuracy: 0.0063 - factorized_top_k/top_10_categorical_accuracy: 0.0113 - factorized_top_k/top_50_categorical_accuracy: 0.0825 - factorized_top_k/top_100_categorical_accuracy: 0.1838 - loss: 0.1212 - regularization_loss: 0.0000e+00 - total_loss: 0.1212\n",
      "Epoch 49/100\n",
      "25/25 [==============================] - 2s 65ms/step - root_mean_squared_error: 0.2883 - factorized_top_k/top_1_categorical_accuracy: 0.0012 - factorized_top_k/top_5_categorical_accuracy: 0.0063 - factorized_top_k/top_10_categorical_accuracy: 0.0100 - factorized_top_k/top_50_categorical_accuracy: 0.0875 - factorized_top_k/top_100_categorical_accuracy: 0.1813 - loss: 0.0850 - regularization_loss: 0.0000e+00 - total_loss: 0.0850\n",
      "Epoch 50/100\n",
      "15/25 [=================>............] - ETA: 0s - root_mean_squared_error: 0.3095 - factorized_top_k/top_1_categorical_accuracy: 0.0000e+00 - factorized_top_k/top_5_categorical_accuracy: 0.0083 - factorized_top_k/top_10_categorical_accuracy: 0.0146 - factorized_top_k/top_50_categorical_accuracy: 0.0938 - factorized_top_k/top_100_categorical_accuracy: 0.2000 - loss: 0.0958 - regularization_loss: 0.0000e+00 - total_loss: 0.0958"
     ]
    }
   ],
   "source": [
    "history_rating_model = model.fit(cached_train, epochs= 100)\n",
    "metrics = model.evaluate(cached_test, return_dict=True)\n",
    "\n",
    "print(f\"Retrieval top-100 accuracy: {metrics['factorized_top_k/top_100_categorical_accuracy']:.3f}.\")\n",
    "print(f\"Ranking RMSE: {metrics['root_mean_squared_error']:.3f}.\")"
   ]
  },
  {
   "cell_type": "markdown",
   "id": "b054218a",
   "metadata": {},
   "source": [
    "## Retrieval-specialized model"
   ]
  },
  {
   "cell_type": "code",
   "execution_count": null,
   "id": "158a2242",
   "metadata": {},
   "outputs": [],
   "source": [
    "model = BookModel(rating_weight=0.0, retrieval_weight=1.0)\n",
    "model.compile(optimizer=tf.keras.optimizers.AdamW(0.005))"
   ]
  },
  {
   "cell_type": "code",
   "execution_count": null,
   "id": "0537bcfa",
   "metadata": {},
   "outputs": [],
   "source": [
    "history_retrieval_model = model.fit(cached_train, epochs= 100)\n",
    "metrics = model.evaluate(cached_test, return_dict=True)\n",
    "\n",
    "print(f\"Retrieval top-100 accuracy: {metrics['factorized_top_k/top_100_categorical_accuracy']:.3f}.\")\n",
    "print(f\"Ranking RMSE: {metrics['root_mean_squared_error']:.3f}.\")"
   ]
  },
  {
   "cell_type": "markdown",
   "id": "5e08365b",
   "metadata": {},
   "source": [
    "### Joint model"
   ]
  },
  {
   "cell_type": "code",
   "execution_count": null,
   "id": "463fc78f",
   "metadata": {},
   "outputs": [],
   "source": [
    "model = BookModel(rating_weight=1.0, retrieval_weight=1.0)\n",
    "model.compile(optimizer=tf.keras.optimizers.AdamW(0.005))"
   ]
  },
  {
   "cell_type": "code",
   "execution_count": null,
   "id": "197f483b",
   "metadata": {},
   "outputs": [],
   "source": [
    "history_joint_model = model.fit(cached_train, epochs= 100)\n",
    "metrics = model.evaluate(cached_test, return_dict=True)\n",
    "\n",
    "print(f\"Retrieval top-100 accuracy: {metrics['factorized_top_k/top_100_categorical_accuracy']:.3f}.\")\n",
    "print(f\"Ranking RMSE: {metrics['root_mean_squared_error']:.3f}.\")"
   ]
  },
  {
   "cell_type": "markdown",
   "id": "9d8c3b8f",
   "metadata": {},
   "source": [
    "### DATA"
   ]
  },
  {
   "cell_type": "code",
   "execution_count": null,
   "id": "cdee21a7",
   "metadata": {},
   "outputs": [],
   "source": [
    "def draw_plot(name, joint, retrieval, rating):\n",
    "    epochs = range(1, len(joint) + 1)\n",
    "    \n",
    "    plt.plot(epochs, joint, 'b', label= name +' Joint')\n",
    "    plt.plot(epochs, retrieval, 'y', label=name + ' Retrieval')\n",
    "    plt.plot(epochs, rating, 'g', label=name + ' Rating')\n",
    "    plt.title(name)\n",
    "    plt.xlabel('Epochs')\n",
    "    plt.ylabel('Loss')\n",
    "    plt.legend()\n",
    "    plt.show()"
   ]
  },
  {
   "cell_type": "code",
   "execution_count": null,
   "id": "4a069f81",
   "metadata": {},
   "outputs": [],
   "source": [
    "RMSE_joint = history_joint_model.history['root_mean_squared_error']\n",
    "RMSE_retrieval = history_retrieval_model.history['root_mean_squared_error']\n",
    "RMSE_rating = history_rating_model.history['root_mean_squared_error']\n",
    "\n",
    "draw_plot('RMSE', RMSE_joint,RMSE_retrieval,RMSE_rating)"
   ]
  },
  {
   "cell_type": "code",
   "execution_count": null,
   "id": "f42608e5",
   "metadata": {},
   "outputs": [],
   "source": [
    "total_loss_values_joint = history_joint_model.history['total_loss']\n",
    "total_loss_values_retrieval = history_retrieval_model.history['total_loss']\n",
    "total_loss_values_rating = history_rating_model.history['total_loss']\n",
    "\n",
    "draw_plot('Training Loss', total_loss_values_joint,total_loss_values_retrieval,total_loss_values_rating)"
   ]
  },
  {
   "cell_type": "markdown",
   "id": "8ea0b2da",
   "metadata": {},
   "source": [
    "## Making predictions"
   ]
  },
  {
   "cell_type": "code",
   "execution_count": null,
   "id": "03335763",
   "metadata": {},
   "outputs": [],
   "source": [
    "trained_movie_embeddings, trained_user_embeddings, predicted_rating = model({\n",
    "      \"user_id\": np.array([\"3avc3TUJioP8XGD0bLK9xtV7uIG3\"]),\n",
    "      \"book_isbn\": np.array([\"09781880685358\"])\n",
    "  })\n",
    "print(\"Predicted rating:\")\n",
    "print(predicted_rating)"
   ]
  },
  {
   "cell_type": "code",
   "execution_count": null,
   "id": "d8d46d3c",
   "metadata": {},
   "outputs": [],
   "source": [
    "user_id = [\"3avc3TUJioP8XGD0bLK9xtV7uIG3\"]\n",
    "isbn_list = set(books_df[\"isbn\"])\n",
    "for isbn in isbn_list:\n",
    "    trained_movie_embeddings, trained_user_embeddings, predicted_rating = model({\n",
    "      \"user_id\": np.array(user_id),\n",
    "      \"book_isbn\": np.array([isbn])\n",
    "    })\n",
    "    print(predicted_rating)"
   ]
  },
  {
   "cell_type": "markdown",
   "id": "e77240ce",
   "metadata": {},
   "source": [
    "### Save the model "
   ]
  },
  {
   "cell_type": "code",
   "execution_count": 32,
   "id": "6a2a0b95",
   "metadata": {},
   "outputs": [
    {
     "name": "stdout",
     "output_type": "stream",
     "text": [
      "WARNING:tensorflow:Skipping full serialization of Keras layer <tensorflow_recommenders.tasks.retrieval.Retrieval object at 0x00000135DC551010>, because it is not built.\n",
      "INFO:tensorflow:Assets written to: final_model\\assets\n"
     ]
    },
    {
     "name": "stderr",
     "output_type": "stream",
     "text": [
      "INFO:tensorflow:Assets written to: final_model\\assets\n"
     ]
    }
   ],
   "source": [
    "model.retrieval_task = tfrs.tasks.Retrieval()  # Removes the metrics.\n",
    "model.compile()\n",
    "model.save(\"final_model\")"
   ]
  },
  {
   "cell_type": "code",
   "execution_count": 33,
   "id": "87555c73",
   "metadata": {},
   "outputs": [],
   "source": [
    "# load model\n",
    "model = tf.keras.models.load_model(\"final_model\")"
   ]
  },
  {
   "cell_type": "code",
   "execution_count": 34,
   "id": "28eb2e53",
   "metadata": {},
   "outputs": [],
   "source": [
    "# Convert the model\n",
    "converter = tf.lite.TFLiteConverter.from_saved_model(\"final_model\") # path to the SavedModel directory\n",
    "tflite_model = converter.convert()\n",
    "\n",
    "# Save the model.\n",
    "with open('final_model.tflite', 'wb') as f:\n",
    "    f.write(tflite_model)"
   ]
  },
  {
   "cell_type": "markdown",
   "id": "d13981fe",
   "metadata": {},
   "source": [
    "### Tf Lite"
   ]
  },
  {
   "cell_type": "code",
   "execution_count": 35,
   "id": "0e893c1a",
   "metadata": {},
   "outputs": [
    {
     "name": "stdout",
     "output_type": "stream",
     "text": [
      "Input name: serving_default_book_isbn:0\n",
      "Input shape: [1]\n",
      "Input data type: <class 'numpy.bytes_'>\n",
      "\n",
      "Input name: serving_default_user_id:0\n",
      "Input shape: [1]\n",
      "Input data type: <class 'numpy.bytes_'>\n",
      "\n",
      "Output name: StatefulPartitionedCall:0\n",
      "Output shape: []\n",
      "Output data type: <class 'numpy.float32'>\n",
      "\n",
      "Output name: StatefulPartitionedCall:2\n",
      "Output shape: [1 1]\n",
      "Output data type: <class 'numpy.float32'>\n",
      "\n",
      "Output name: StatefulPartitionedCall:1\n",
      "Output shape: []\n",
      "Output data type: <class 'numpy.float32'>\n",
      "\n"
     ]
    }
   ],
   "source": [
    "interpreter = tf.lite.Interpreter(model_path=\"final_model.tflite\")\n",
    "interpreter.allocate_tensors()\n",
    "\n",
    "#Get input details\n",
    "input_details = interpreter.get_input_details()\n",
    "for input_tensor in input_details:\n",
    "    print(\"Input name:\", input_tensor[\"name\"])\n",
    "    print(\"Input shape:\", input_tensor[\"shape\"])\n",
    "    print(\"Input data type:\", input_tensor[\"dtype\"])\n",
    "    print()\n",
    "#Get output details\n",
    "output_details = interpreter.get_output_details()\n",
    "for output_tensor in output_details:\n",
    "    print(\"Output name:\", output_tensor[\"name\"])\n",
    "    print(\"Output shape:\", output_tensor[\"shape\"])\n",
    "    print(\"Output data type:\", output_tensor[\"dtype\"])\n",
    "    print()"
   ]
  },
  {
   "cell_type": "code",
   "execution_count": 36,
   "id": "a406c3d9",
   "metadata": {},
   "outputs": [
    {
     "name": "stdout",
     "output_type": "stream",
     "text": [
      "Probability: 3.3923666\n"
     ]
    }
   ],
   "source": [
    "# Prepare the input data\n",
    "input_data_isbn = np.array([b'09780143036357'], dtype=np.bytes_)\n",
    "input_data_user_id = np.array(['3avc3TUJioP8XGD0bLK9xtV7uIG3'], dtype=np.bytes_)\n",
    "\n",
    "input_details = interpreter.get_input_details()\n",
    "interpreter.set_tensor(input_details[0]['index'], input_data_isbn)\n",
    "interpreter.set_tensor(input_details[1]['index'], input_data_user_id)\n",
    "\n",
    "# Run the inference\n",
    "interpreter.invoke()\n",
    "\n",
    "# Retrieve the output results\n",
    "output_details = interpreter.get_output_details()\n",
    "\n",
    "output_data_prediction = interpreter.get_tensor(output_details[0]['index'])\n",
    "output_data_probabilities = interpreter.get_tensor(output_details[1]['index'])\n",
    "output_data_score = interpreter.get_tensor(output_details[2]['index'])\n",
    "\n",
    "# Process the output\n",
    "#prediction = output_data_prediction.squeeze()\n",
    "probabilities = output_data_probabilities.squeeze()\n",
    "#score = output_data_score.squeeze()\n",
    "\n",
    "# Print the results\n",
    "#print(\"Prediction:\", prediction)\n",
    "print(\"Probability:\", probabilities)\n",
    "#print(\"Score:\", score)"
   ]
  },
  {
   "cell_type": "markdown",
   "id": "6ed05676",
   "metadata": {},
   "source": [
    "### Tensorflow recommenders "
   ]
  },
  {
   "cell_type": "markdown",
   "id": "4d6b6bc9",
   "metadata": {},
   "source": [
    "#### Brute Force"
   ]
  },
  {
   "cell_type": "code",
   "execution_count": 37,
   "id": "523bc843",
   "metadata": {},
   "outputs": [
    {
     "name": "stdout",
     "output_type": "stream",
     "text": [
      "Recommendations for user: [b'09781857024074' b'09780375701801' b'09780465014903' b'09780140286014'\n",
      " b'09781592289806' b'09781859843406' b'09780618257768' b'09780590428880'\n",
      " b'09780226142814' b'09780195309683']\n"
     ]
    }
   ],
   "source": [
    "# Create a model that takes in raw query features, and\n",
    "index = tfrs.layers.factorized_top_k.BruteForce(model.user_model)\n",
    "# recommends books out of the entire books dataset.\n",
    "index.index_from_dataset(\n",
    "  tf.data.Dataset.zip((books.batch(100), books.batch(100).map(model.book_model)))\n",
    ")\n",
    "\n",
    "# Get recommendations.\n",
    "_, isbns = index(np.array([\"Pgzb07La4DUNOhYPzYXHA7CdfNi1\"]))\n",
    "print(f\"Recommendations for user: {isbns[0, :10]}\")"
   ]
  },
  {
   "cell_type": "markdown",
   "id": "e6c242d6",
   "metadata": {},
   "source": [
    "#### Save the brute force model"
   ]
  },
  {
   "cell_type": "code",
   "execution_count": 38,
   "id": "0e324995",
   "metadata": {
    "scrolled": true
   },
   "outputs": [
    {
     "name": "stdout",
     "output_type": "stream",
     "text": [
      "WARNING:tensorflow:Model's `__init__()` arguments contain non-serializable objects. Please implement a `get_config()` method in the subclassed Model for proper saving and loading. Defaulting to empty config.\n"
     ]
    },
    {
     "name": "stderr",
     "output_type": "stream",
     "text": [
      "WARNING:tensorflow:Model's `__init__()` arguments contain non-serializable objects. Please implement a `get_config()` method in the subclassed Model for proper saving and loading. Defaulting to empty config.\n"
     ]
    },
    {
     "name": "stdout",
     "output_type": "stream",
     "text": [
      "WARNING:tensorflow:Model's `__init__()` arguments contain non-serializable objects. Please implement a `get_config()` method in the subclassed Model for proper saving and loading. Defaulting to empty config.\n"
     ]
    },
    {
     "name": "stderr",
     "output_type": "stream",
     "text": [
      "WARNING:tensorflow:Model's `__init__()` arguments contain non-serializable objects. Please implement a `get_config()` method in the subclassed Model for proper saving and loading. Defaulting to empty config.\n"
     ]
    },
    {
     "name": "stdout",
     "output_type": "stream",
     "text": [
      "INFO:tensorflow:Assets written to: final_model\\assets\n"
     ]
    },
    {
     "name": "stderr",
     "output_type": "stream",
     "text": [
      "INFO:tensorflow:Assets written to: final_model\\assets\n"
     ]
    },
    {
     "name": "stdout",
     "output_type": "stream",
     "text": [
      "WARNING:tensorflow:Model's `__init__()` arguments contain non-serializable objects. Please implement a `get_config()` method in the subclassed Model for proper saving and loading. Defaulting to empty config.\n"
     ]
    },
    {
     "name": "stderr",
     "output_type": "stream",
     "text": [
      "WARNING:tensorflow:Model's `__init__()` arguments contain non-serializable objects. Please implement a `get_config()` method in the subclassed Model for proper saving and loading. Defaulting to empty config.\n"
     ]
    },
    {
     "name": "stdout",
     "output_type": "stream",
     "text": [
      "WARNING:tensorflow:Model's `__init__()` arguments contain non-serializable objects. Please implement a `get_config()` method in the subclassed Model for proper saving and loading. Defaulting to empty config.\n"
     ]
    },
    {
     "name": "stderr",
     "output_type": "stream",
     "text": [
      "WARNING:tensorflow:Model's `__init__()` arguments contain non-serializable objects. Please implement a `get_config()` method in the subclassed Model for proper saving and loading. Defaulting to empty config.\n"
     ]
    }
   ],
   "source": [
    "index.save(\"final_model\")"
   ]
  },
  {
   "cell_type": "code",
   "execution_count": 39,
   "id": "dc8f3254",
   "metadata": {},
   "outputs": [
    {
     "name": "stdout",
     "output_type": "stream",
     "text": [
      "Recommendations: [b'09781857024074' b'09780375701801' b'09780465014903' b'09780140286014'\n",
      " b'09781592289806']\n"
     ]
    }
   ],
   "source": [
    "# test loading \n",
    "loaded = tf.saved_model.load(\"final_model\")\n",
    "\n",
    "# Pass a user id in, get top predicted movie titles back.\n",
    "scores, isbns = loaded([\"Pgzb07La4DUNOhYPzYXHA7CdfNi1\"])\n",
    "\n",
    "print(f\"Recommendations: {isbns[0][:5]}\")"
   ]
  },
  {
   "cell_type": "markdown",
   "id": "8e357399",
   "metadata": {},
   "source": [
    "#### TFLite for the model "
   ]
  },
  {
   "cell_type": "code",
   "execution_count": 40,
   "id": "5e33a32f",
   "metadata": {},
   "outputs": [],
   "source": [
    "# Convert the model\n",
    "converter = tf.lite.TFLiteConverter.from_saved_model(\"final_model\") # path to the SavedModel directory\n",
    "tflite_model = converter.convert()\n",
    "\n",
    "# Save the model.\n",
    "with open('final_model.tflite', 'wb') as f:\n",
    "    f.write(tflite_model)"
   ]
  },
  {
   "cell_type": "markdown",
   "id": "bbc772d3",
   "metadata": {},
   "source": [
    "#### Tf lite testing "
   ]
  },
  {
   "cell_type": "code",
   "execution_count": 41,
   "id": "1c940147",
   "metadata": {},
   "outputs": [
    {
     "name": "stdout",
     "output_type": "stream",
     "text": [
      "Input name: serving_default_input_1:0\n",
      "Input shape: [1]\n",
      "Input data type: <class 'numpy.bytes_'>\n",
      "\n",
      "Output name: StatefulPartitionedCall_1:0\n",
      "Output shape: [ 1 10]\n",
      "Output data type: <class 'numpy.float32'>\n",
      "\n",
      "Output name: StatefulPartitionedCall_1:1\n",
      "Output shape: [ 1 10]\n",
      "Output data type: <class 'numpy.bytes_'>\n",
      "\n"
     ]
    }
   ],
   "source": [
    "interpreter = tf.lite.Interpreter(model_path=\"final_model.tflite\")\n",
    "interpreter.allocate_tensors()\n",
    "\n",
    "#Get input details\n",
    "input_details = interpreter.get_input_details()\n",
    "for input_tensor in input_details:\n",
    "    print(\"Input name:\", input_tensor[\"name\"])\n",
    "    print(\"Input shape:\", input_tensor[\"shape\"])\n",
    "    print(\"Input data type:\", input_tensor[\"dtype\"])\n",
    "    print()\n",
    "#Get output details\n",
    "output_details = interpreter.get_output_details()\n",
    "for output_tensor in output_details:\n",
    "    print(\"Output name:\", output_tensor[\"name\"])\n",
    "    print(\"Output shape:\", output_tensor[\"shape\"])\n",
    "    print(\"Output data type:\", output_tensor[\"dtype\"])\n",
    "    print()"
   ]
  },
  {
   "cell_type": "code",
   "execution_count": 42,
   "id": "d12e423a",
   "metadata": {
    "scrolled": true
   },
   "outputs": [
    {
     "name": "stdout",
     "output_type": "stream",
     "text": [
      "Classes: ['09780851621814' '09780446617451' '09780253203182' '09780747573623'\n",
      " '09780143104902' '09781841492667' '09781572244252' '09780452270848'\n",
      " '09781582406930' '09780618710539']\n"
     ]
    }
   ],
   "source": [
    "# Prepare the input data\n",
    "input_data = np.array([\"zwVJUfdC0oa9hWWp9uK0hRTM71j1\"], dtype=np.bytes_)\n",
    "\n",
    "input_details = interpreter.get_input_details()\n",
    "interpreter.set_tensor(input_details[0]['index'], input_data)\n",
    "\n",
    "# Run the inference\n",
    "interpreter.invoke()\n",
    "\n",
    "# Retrieve the output results\n",
    "output_details = interpreter.get_output_details()\n",
    "\n",
    "output_data_prediction = interpreter.get_tensor(output_details[0]['index'])\n",
    "output_data_classes = interpreter.get_tensor(output_details[1]['index'])\n",
    "\n",
    "# Process the output\n",
    "#prediction = output_data_prediction.squeeze()\n",
    "classes = output_data_classes.squeeze().astype(str)\n",
    "\n",
    "# Print the results\n",
    "#print(\"Prediction:\", prediction)\n",
    "print(\"Classes:\", classes)"
   ]
  },
  {
   "cell_type": "code",
   "execution_count": 43,
   "id": "233c1909",
   "metadata": {},
   "outputs": [
    {
     "data": {
      "text/plain": [
       "<firebase_admin.App at 0x135ea8eb190>"
      ]
     },
     "execution_count": 43,
     "metadata": {},
     "output_type": "execute_result"
    }
   ],
   "source": [
    "import firebase_admin\n",
    "from firebase_admin import ml\n",
    "from firebase_admin import credentials\n",
    "\n",
    "firebase_admin.initialize_app(\n",
    "  credentials.Certificate('thesis-bd8c8-firebase-adminsdk-fqj6e-e1d094b473.json'),\n",
    "  options={\n",
    "      'storageBucket': 'thesis-bd8c8.appspot.com',\n",
    "  })\n"
   ]
  },
  {
   "cell_type": "code",
   "execution_count": 44,
   "id": "e49700b7",
   "metadata": {},
   "outputs": [],
   "source": [
    "#Upload model"
   ]
  },
  {
   "cell_type": "code",
   "execution_count": 45,
   "id": "e8171767",
   "metadata": {},
   "outputs": [
    {
     "name": "stdout",
     "output_type": "stream",
     "text": [
      "21877933\n"
     ]
    }
   ],
   "source": [
    "source = ml.TFLiteGCSModelSource.from_tflite_model_file('final_model.tflite')\n",
    "tflite_format = ml.TFLiteFormat(model_source=source)\n",
    "model = ml.Model(display_name=\"final_model\", model_format=tflite_format)\n",
    "new_model = ml.create_model(model)\n",
    "ml.publish_model(new_model.model_id)\n",
    "print(new_model.model_id)"
   ]
  },
  {
   "cell_type": "code",
   "execution_count": 46,
   "id": "edc0fc44",
   "metadata": {},
   "outputs": [],
   "source": [
    "#Update model"
   ]
  },
  {
   "cell_type": "code",
   "execution_count": 47,
   "id": "01d9b741",
   "metadata": {},
   "outputs": [
    {
     "data": {
      "text/plain": [
       "<firebase_admin.ml.Model at 0x135e9707210>"
      ]
     },
     "execution_count": 47,
     "metadata": {},
     "output_type": "execute_result"
    }
   ],
   "source": [
    "model = ml.get_model(new_model.model_id)\n",
    "source = ml.TFLiteGCSModelSource.from_tflite_model_file('final_model.tflite')\n",
    "model.mode_format = ml.TFLiteFormat(model_source=source)\n",
    "model.display_name = \"final_model\"\n",
    "updated_model = ml.update_model(model)\n",
    "ml.publish_model(updated_model.model_id)"
   ]
  },
  {
   "cell_type": "code",
   "execution_count": null,
   "id": "12f29669",
   "metadata": {},
   "outputs": [],
   "source": []
  }
 ],
 "metadata": {
  "kernelspec": {
   "display_name": "Python 3 (ipykernel)",
   "language": "python",
   "name": "python3"
  },
  "language_info": {
   "codemirror_mode": {
    "name": "ipython",
    "version": 3
   },
   "file_extension": ".py",
   "mimetype": "text/x-python",
   "name": "python",
   "nbconvert_exporter": "python",
   "pygments_lexer": "ipython3",
   "version": "3.11.3"
  }
 },
 "nbformat": 4,
 "nbformat_minor": 5
}
