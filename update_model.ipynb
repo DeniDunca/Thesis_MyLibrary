{
 "cells": [
  {
   "cell_type": "code",
   "execution_count": 1,
   "id": "d3b21614",
   "metadata": {},
   "outputs": [
    {
     "data": {
      "text/plain": [
       "<firebase_admin.App at 0x2b0c8a110d0>"
      ]
     },
     "execution_count": 1,
     "metadata": {},
     "output_type": "execute_result"
    }
   ],
   "source": [
    "import firebase_admin\n",
    "from firebase_admin import ml\n",
    "from firebase_admin import credentials\n",
    "\n",
    "firebase_admin.initialize_app(\n",
    "  credentials.Certificate('thesis-bd8c8-firebase-adminsdk-fqj6e-e1d094b473.json'),\n",
    "  options={\n",
    "      'storageBucket': 'thesis-bd8c8.appspot.com',\n",
    "  })\n"
   ]
  },
  {
   "cell_type": "code",
   "execution_count": 2,
   "id": "0549aa12",
   "metadata": {},
   "outputs": [],
   "source": [
    "model = ml.get_model(\"21843218\")"
   ]
  },
  {
   "cell_type": "code",
   "execution_count": 3,
   "id": "90dc7bdc",
   "metadata": {},
   "outputs": [],
   "source": [
    "source = ml.TFLiteGCSModelSource.from_tflite_model_file('modified_multi_model2.tflite')"
   ]
  },
  {
   "cell_type": "code",
   "execution_count": 4,
   "id": "901b1ac7",
   "metadata": {},
   "outputs": [],
   "source": [
    "model.mode_format = ml.TFLiteFormat(model_source=source)"
   ]
  },
  {
   "cell_type": "code",
   "execution_count": 5,
   "id": "ce2e0882",
   "metadata": {},
   "outputs": [],
   "source": [
    "model.display_name = \"my_model2\""
   ]
  },
  {
   "cell_type": "code",
   "execution_count": 6,
   "id": "2471a810",
   "metadata": {},
   "outputs": [],
   "source": [
    "updated_model = ml.update_model(model)"
   ]
  },
  {
   "cell_type": "code",
   "execution_count": 7,
   "id": "1a10ebbd",
   "metadata": {},
   "outputs": [
    {
     "data": {
      "text/plain": [
       "<firebase_admin.ml.Model at 0x2b0c8a21510>"
      ]
     },
     "execution_count": 7,
     "metadata": {},
     "output_type": "execute_result"
    }
   ],
   "source": [
    "ml.publish_model(updated_model.model_id)"
   ]
  },
  {
   "cell_type": "code",
   "execution_count": null,
   "id": "90aa95b1",
   "metadata": {},
   "outputs": [],
   "source": []
  },
  {
   "cell_type": "code",
   "execution_count": null,
   "id": "01b54020",
   "metadata": {},
   "outputs": [],
   "source": []
  }
 ],
 "metadata": {
  "kernelspec": {
   "display_name": "Python 3 (ipykernel)",
   "language": "python",
   "name": "python3"
  },
  "language_info": {
   "codemirror_mode": {
    "name": "ipython",
    "version": 3
   },
   "file_extension": ".py",
   "mimetype": "text/x-python",
   "name": "python",
   "nbconvert_exporter": "python",
   "pygments_lexer": "ipython3",
   "version": "3.11.3"
  }
 },
 "nbformat": 4,
 "nbformat_minor": 5
}
